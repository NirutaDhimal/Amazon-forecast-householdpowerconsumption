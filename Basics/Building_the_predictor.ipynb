{
 "cells": [
  {
   "cell_type": "markdown",
   "metadata": {},
   "source": [
    "## Building the Predictor"
   ]
  },
  {
   "cell_type": "markdown",
   "metadata": {},
   "source": [
    "### Setup"
   ]
  },
  {
   "cell_type": "code",
   "execution_count": 23,
   "metadata": {},
   "outputs": [],
   "source": [
    "import sys\n",
    "import os\n",
    "import time\n",
    "\n",
    "import boto3\n",
    "\n",
    "#importing forecast utility from common directory\n",
    "sys.path.insert(0, os.path.abspath(\"common\"))\n",
    "import util"
   ]
  },
  {
   "cell_type": "code",
   "execution_count": 24,
   "metadata": {},
   "outputs": [],
   "source": [
    "%store -r"
   ]
  },
  {
   "cell_type": "code",
   "execution_count": 25,
   "metadata": {},
   "outputs": [],
   "source": [
    "session = boto3.Session(region_name = region)\n",
    "forecast = session.client(service_name = \"forecast\")\n",
    "forecastquery = session.client(service_name = 'forecastquery')"
   ]
  },
  {
   "cell_type": "markdown",
   "metadata": {},
   "source": [
    "## Create a Predictor"
   ]
  },
  {
   "cell_type": "code",
   "execution_count": 26,
   "metadata": {},
   "outputs": [],
   "source": [
    "predictor_name = project + '_deeparp_algo'"
   ]
  },
  {
   "cell_type": "code",
   "execution_count": 27,
   "metadata": {},
   "outputs": [],
   "source": [
    "forecastHorizon = 24"
   ]
  },
  {
   "cell_type": "code",
   "execution_count": 28,
   "metadata": {},
   "outputs": [],
   "source": [
    "algorithmArn = 'arn:aws:forecast:::algorithm/Deep_AR_Plus'"
   ]
  },
  {
   "cell_type": "code",
   "execution_count": 29,
   "metadata": {},
   "outputs": [
    {
     "ename": "ResourceAlreadyExistsException",
     "evalue": "An error occurred (ResourceAlreadyExistsException) when calling the CreatePredictor operation: A predictor already exists with the arn: arn:aws:forecast:us-east-1:879335107588:predictor/active_power_forecast_deeparp_algo",
     "output_type": "error",
     "traceback": [
      "\u001b[1;31m---------------------------------------------------------------------------\u001b[0m",
      "\u001b[1;31mResourceAlreadyExistsException\u001b[0m            Traceback (most recent call last)",
      "\u001b[1;32m<ipython-input-29-9de9302e2ea5>\u001b[0m in \u001b[0;36m<module>\u001b[1;34m\u001b[0m\n\u001b[1;32m----> 1\u001b[1;33m create_predictor_response=forecast.create_predictor(PredictorName=predictor_name, \n\u001b[0m\u001b[0;32m      2\u001b[0m                                                   \u001b[0mAlgorithmArn\u001b[0m\u001b[1;33m=\u001b[0m\u001b[0malgorithmArn\u001b[0m\u001b[1;33m,\u001b[0m\u001b[1;33m\u001b[0m\u001b[1;33m\u001b[0m\u001b[0m\n\u001b[0;32m      3\u001b[0m                                                   \u001b[0mForecastHorizon\u001b[0m\u001b[1;33m=\u001b[0m\u001b[0mforecastHorizon\u001b[0m\u001b[1;33m,\u001b[0m\u001b[1;33m\u001b[0m\u001b[1;33m\u001b[0m\u001b[0m\n\u001b[0;32m      4\u001b[0m                                                   \u001b[0mPerformAutoML\u001b[0m\u001b[1;33m=\u001b[0m \u001b[1;32mFalse\u001b[0m\u001b[1;33m,\u001b[0m\u001b[1;33m\u001b[0m\u001b[1;33m\u001b[0m\u001b[0m\n\u001b[0;32m      5\u001b[0m                                                   \u001b[0mPerformHPO\u001b[0m\u001b[1;33m=\u001b[0m\u001b[1;32mFalse\u001b[0m\u001b[1;33m,\u001b[0m\u001b[1;33m\u001b[0m\u001b[1;33m\u001b[0m\u001b[0m\n",
      "\u001b[1;32m~\\Anaconda3\\lib\\site-packages\\botocore\\client.py\u001b[0m in \u001b[0;36m_api_call\u001b[1;34m(self, *args, **kwargs)\u001b[0m\n\u001b[0;32m    335\u001b[0m                     \"%s() only accepts keyword arguments.\" % py_operation_name)\n\u001b[0;32m    336\u001b[0m             \u001b[1;31m# The \"self\" in this scope is referring to the BaseClient.\u001b[0m\u001b[1;33m\u001b[0m\u001b[1;33m\u001b[0m\u001b[1;33m\u001b[0m\u001b[0m\n\u001b[1;32m--> 337\u001b[1;33m             \u001b[1;32mreturn\u001b[0m \u001b[0mself\u001b[0m\u001b[1;33m.\u001b[0m\u001b[0m_make_api_call\u001b[0m\u001b[1;33m(\u001b[0m\u001b[0moperation_name\u001b[0m\u001b[1;33m,\u001b[0m \u001b[0mkwargs\u001b[0m\u001b[1;33m)\u001b[0m\u001b[1;33m\u001b[0m\u001b[1;33m\u001b[0m\u001b[0m\n\u001b[0m\u001b[0;32m    338\u001b[0m \u001b[1;33m\u001b[0m\u001b[0m\n\u001b[0;32m    339\u001b[0m         \u001b[0m_api_call\u001b[0m\u001b[1;33m.\u001b[0m\u001b[0m__name__\u001b[0m \u001b[1;33m=\u001b[0m \u001b[0mstr\u001b[0m\u001b[1;33m(\u001b[0m\u001b[0mpy_operation_name\u001b[0m\u001b[1;33m)\u001b[0m\u001b[1;33m\u001b[0m\u001b[1;33m\u001b[0m\u001b[0m\n",
      "\u001b[1;32m~\\Anaconda3\\lib\\site-packages\\botocore\\client.py\u001b[0m in \u001b[0;36m_make_api_call\u001b[1;34m(self, operation_name, api_params)\u001b[0m\n\u001b[0;32m    654\u001b[0m             \u001b[0merror_code\u001b[0m \u001b[1;33m=\u001b[0m \u001b[0mparsed_response\u001b[0m\u001b[1;33m.\u001b[0m\u001b[0mget\u001b[0m\u001b[1;33m(\u001b[0m\u001b[1;34m\"Error\"\u001b[0m\u001b[1;33m,\u001b[0m \u001b[1;33m{\u001b[0m\u001b[1;33m}\u001b[0m\u001b[1;33m)\u001b[0m\u001b[1;33m.\u001b[0m\u001b[0mget\u001b[0m\u001b[1;33m(\u001b[0m\u001b[1;34m\"Code\"\u001b[0m\u001b[1;33m)\u001b[0m\u001b[1;33m\u001b[0m\u001b[1;33m\u001b[0m\u001b[0m\n\u001b[0;32m    655\u001b[0m             \u001b[0merror_class\u001b[0m \u001b[1;33m=\u001b[0m \u001b[0mself\u001b[0m\u001b[1;33m.\u001b[0m\u001b[0mexceptions\u001b[0m\u001b[1;33m.\u001b[0m\u001b[0mfrom_code\u001b[0m\u001b[1;33m(\u001b[0m\u001b[0merror_code\u001b[0m\u001b[1;33m)\u001b[0m\u001b[1;33m\u001b[0m\u001b[1;33m\u001b[0m\u001b[0m\n\u001b[1;32m--> 656\u001b[1;33m             \u001b[1;32mraise\u001b[0m \u001b[0merror_class\u001b[0m\u001b[1;33m(\u001b[0m\u001b[0mparsed_response\u001b[0m\u001b[1;33m,\u001b[0m \u001b[0moperation_name\u001b[0m\u001b[1;33m)\u001b[0m\u001b[1;33m\u001b[0m\u001b[1;33m\u001b[0m\u001b[0m\n\u001b[0m\u001b[0;32m    657\u001b[0m         \u001b[1;32melse\u001b[0m\u001b[1;33m:\u001b[0m\u001b[1;33m\u001b[0m\u001b[1;33m\u001b[0m\u001b[0m\n\u001b[0;32m    658\u001b[0m             \u001b[1;32mreturn\u001b[0m \u001b[0mparsed_response\u001b[0m\u001b[1;33m\u001b[0m\u001b[1;33m\u001b[0m\u001b[0m\n",
      "\u001b[1;31mResourceAlreadyExistsException\u001b[0m: An error occurred (ResourceAlreadyExistsException) when calling the CreatePredictor operation: A predictor already exists with the arn: arn:aws:forecast:us-east-1:879335107588:predictor/active_power_forecast_deeparp_algo"
     ]
    }
   ],
   "source": [
    "create_predictor_response=forecast.create_predictor(PredictorName=predictor_name, \n",
    "                                                  AlgorithmArn=algorithmArn,\n",
    "                                                  ForecastHorizon=forecastHorizon,\n",
    "                                                  PerformAutoML= False,\n",
    "                                                  PerformHPO=False,\n",
    "                                                  EvaluationParameters= {\"NumberOfBacktestWindows\": 1, \n",
    "                                                                         \"BackTestWindowOffset\": 24}, \n",
    "                                                  InputDataConfig= {\"DatasetGroupArn\": datasetGroupArn},\n",
    "                                                  FeaturizationConfig= {\"ForecastFrequency\": \"H\", \n",
    "                                                                        \"Featurizations\": \n",
    "                                                                        [\n",
    "                                                                          {\"AttributeName\": \"target_value\", \n",
    "                                                                           \"FeaturizationPipeline\": \n",
    "                                                                            [\n",
    "                                                                              {\"FeaturizationMethodName\": \"filling\", \n",
    "                                                                               \"FeaturizationMethodParameters\": \n",
    "                                                                                {\"frontfill\": \"none\", \n",
    "                                                                                 \"middlefill\": \"zero\", \n",
    "                                                                                 \"backfill\": \"zero\"}\n",
    "                                                                              }\n",
    "                                                                            ]\n",
    "                                                                          }\n",
    "                                                                        ]\n",
    "                                                                       }\n",
    "                                                 )"
   ]
  },
  {
   "cell_type": "code",
   "execution_count": null,
   "metadata": {},
   "outputs": [],
   "source": [
    "predictor_arn = create_predictor_response['PredictorArn']"
   ]
  },
  {
   "cell_type": "code",
   "execution_count": 31,
   "metadata": {},
   "outputs": [
    {
     "name": "stdout",
     "output_type": "stream",
     "text": [
      "ACTIVE \n"
     ]
    }
   ],
   "source": [
    "status_indicator = util.StatusIndicator()\n",
    "\n",
    "while True:\n",
    "    status = forecast.describe_predictor(PredictorArn=predictor_arn)['Status']\n",
    "    status_indicator.update(status)\n",
    "    if status in ('ACTIVE', 'CREATE_FAILED'): break\n",
    "    time.sleep(10)\n",
    "\n",
    "status_indicator.end()"
   ]
  },
  {
   "cell_type": "markdown",
   "metadata": {},
   "source": [
    "## Get Error Metrics"
   ]
  },
  {
   "cell_type": "code",
   "execution_count": 30,
   "metadata": {},
   "outputs": [
    {
     "data": {
      "text/plain": [
       "{'PredictorEvaluationResults': [{'AlgorithmArn': 'arn:aws:forecast:::algorithm/Deep_AR_Plus',\n",
       "   'TestWindows': [{'EvaluationType': 'SUMMARY',\n",
       "     'Metrics': {'RMSE': 54.93052509695769,\n",
       "      'WeightedQuantileLosses': [{'Quantile': 0.9,\n",
       "        'LossValue': 0.46805555759966944},\n",
       "       {'Quantile': 0.5, 'LossValue': 0.6736751592853709},\n",
       "       {'Quantile': 0.1, 'LossValue': 0.17039252357842907}]}},\n",
       "    {'TestWindowStart': datetime.datetime(2010, 10, 31, 6, 44, tzinfo=tzlocal()),\n",
       "     'TestWindowEnd': datetime.datetime(2010, 11, 1, 6, 44, tzinfo=tzlocal()),\n",
       "     'ItemCount': 1,\n",
       "     'EvaluationType': 'COMPUTED',\n",
       "     'Metrics': {'RMSE': 54.93052509695769,\n",
       "      'WeightedQuantileLosses': [{'Quantile': 0.9,\n",
       "        'LossValue': 0.46805555759966944},\n",
       "       {'Quantile': 0.5, 'LossValue': 0.6736751592853709},\n",
       "       {'Quantile': 0.1, 'LossValue': 0.17039252357842907}]}}]}],\n",
       " 'ResponseMetadata': {'RequestId': 'f54bc688-9638-41db-ad5b-92404b887d2f',\n",
       "  'HTTPStatusCode': 200,\n",
       "  'HTTPHeaders': {'content-type': 'application/x-amz-json-1.1',\n",
       "   'date': 'Sat, 12 Dec 2020 19:18:18 GMT',\n",
       "   'x-amzn-requestid': 'f54bc688-9638-41db-ad5b-92404b887d2f',\n",
       "   'content-length': '846',\n",
       "   'connection': 'keep-alive'},\n",
       "  'RetryAttempts': 0}}"
      ]
     },
     "execution_count": 30,
     "metadata": {},
     "output_type": "execute_result"
    }
   ],
   "source": [
    "forecast.get_accuracy_metrics(PredictorArn = predictor_arn)"
   ]
  },
  {
   "cell_type": "markdown",
   "metadata": {},
   "source": [
    "## Create a forecast "
   ]
  },
  {
   "cell_type": "code",
   "execution_count": 18,
   "metadata": {},
   "outputs": [],
   "source": [
    "forecastName = project + '_deeparp_algo_forecast'"
   ]
  },
  {
   "cell_type": "code",
   "execution_count": 19,
   "metadata": {},
   "outputs": [],
   "source": [
    "create_forecast_response = forecast.create_forecast(ForecastName = forecastName,\n",
    "                                                   PredictorArn = predictor_arn)\n",
    "forecastArn = create_forecast_response['ForecastArn']"
   ]
  },
  {
   "cell_type": "code",
   "execution_count": 33,
   "metadata": {},
   "outputs": [
    {
     "name": "stdout",
     "output_type": "stream",
     "text": [
      "ACTIVE \n"
     ]
    }
   ],
   "source": [
    "status_indicator = util.StatusIndicator()\n",
    "\n",
    "while True:\n",
    "    status = forecast.describe_forecast(ForecastArn=forecastArn)['Status']\n",
    "    status_indicator.update(status)\n",
    "    if status in ('ACTIVE', 'CREATE_FAILED'): break\n",
    "    time.sleep(10)\n",
    "\n",
    "status_indicator.end()"
   ]
  },
  {
   "cell_type": "markdown",
   "metadata": {},
   "source": [
    "## Get Forecast"
   ]
  },
  {
   "cell_type": "code",
   "execution_count": 34,
   "metadata": {},
   "outputs": [
    {
     "name": "stdout",
     "output_type": "stream",
     "text": [
      "arn:aws:forecast:us-east-1:879335107588:forecast/active_power_forecast_deeparp_algo_forecast\n",
      "\n",
      "{'Forecast': {'Predictions': {'p10': [{'Timestamp': '2010-11-01T00:00:00', 'Value': 46.170188903808594}, {'Timestamp': '2010-11-01T01:00:00', 'Value': 16.540122985839844}, {'Timestamp': '2010-11-01T02:00:00', 'Value': 12.155609130859375}, {'Timestamp': '2010-11-01T03:00:00', 'Value': 16.15972900390625}, {'Timestamp': '2010-11-01T04:00:00', 'Value': 15.278203964233398}, {'Timestamp': '2010-11-01T05:00:00', 'Value': 17.611433029174805}, {'Timestamp': '2010-11-01T06:00:00', 'Value': 21.751605987548828}, {'Timestamp': '2010-11-01T07:00:00', 'Value': 40.40333557128906}, {'Timestamp': '2010-11-01T08:00:00', 'Value': 28.807479858398438}, {'Timestamp': '2010-11-01T09:00:00', 'Value': 31.1025390625}, {'Timestamp': '2010-11-01T10:00:00', 'Value': 19.79860496520996}, {'Timestamp': '2010-11-01T11:00:00', 'Value': 21.992919921875}, {'Timestamp': '2010-11-01T12:00:00', 'Value': 22.907835006713867}, {'Timestamp': '2010-11-01T13:00:00', 'Value': 11.075794219970703}, {'Timestamp': '2010-11-01T14:00:00', 'Value': 16.999364852905273}, {'Timestamp': '2010-11-01T15:00:00', 'Value': 14.500283241271973}, {'Timestamp': '2010-11-01T16:00:00', 'Value': 10.533148765563965}, {'Timestamp': '2010-11-01T17:00:00', 'Value': 6.112977981567383}, {'Timestamp': '2010-11-01T18:00:00', 'Value': 19.399093627929688}, {'Timestamp': '2010-11-01T19:00:00', 'Value': 36.79685974121094}, {'Timestamp': '2010-11-01T20:00:00', 'Value': 30.771202087402344}, {'Timestamp': '2010-11-01T21:00:00', 'Value': 38.088314056396484}, {'Timestamp': '2010-11-01T22:00:00', 'Value': 33.73774719238281}, {'Timestamp': '2010-11-01T23:00:00', 'Value': 11.629188537597656}], 'p50': [{'Timestamp': '2010-11-01T00:00:00', 'Value': 80.43607330322266}, {'Timestamp': '2010-11-01T01:00:00', 'Value': 49.136436462402344}, {'Timestamp': '2010-11-01T02:00:00', 'Value': 35.13594055175781}, {'Timestamp': '2010-11-01T03:00:00', 'Value': 30.015419006347656}, {'Timestamp': '2010-11-01T04:00:00', 'Value': 29.96671485900879}, {'Timestamp': '2010-11-01T05:00:00', 'Value': 27.915756225585938}, {'Timestamp': '2010-11-01T06:00:00', 'Value': 42.91621017456055}, {'Timestamp': '2010-11-01T07:00:00', 'Value': 68.59925842285156}, {'Timestamp': '2010-11-01T08:00:00', 'Value': 68.24760437011719}, {'Timestamp': '2010-11-01T09:00:00', 'Value': 81.50666809082031}, {'Timestamp': '2010-11-01T10:00:00', 'Value': 61.589988708496094}, {'Timestamp': '2010-11-01T11:00:00', 'Value': 56.70970153808594}, {'Timestamp': '2010-11-01T12:00:00', 'Value': 58.0942497253418}, {'Timestamp': '2010-11-01T13:00:00', 'Value': 50.838043212890625}, {'Timestamp': '2010-11-01T14:00:00', 'Value': 45.10380554199219}, {'Timestamp': '2010-11-01T15:00:00', 'Value': 41.87389373779297}, {'Timestamp': '2010-11-01T16:00:00', 'Value': 34.038368225097656}, {'Timestamp': '2010-11-01T17:00:00', 'Value': 38.96495819091797}, {'Timestamp': '2010-11-01T18:00:00', 'Value': 71.41576385498047}, {'Timestamp': '2010-11-01T19:00:00', 'Value': 89.75648498535156}, {'Timestamp': '2010-11-01T20:00:00', 'Value': 92.5232162475586}, {'Timestamp': '2010-11-01T21:00:00', 'Value': 88.24112701416016}, {'Timestamp': '2010-11-01T22:00:00', 'Value': 84.60174560546875}, {'Timestamp': '2010-11-01T23:00:00', 'Value': 69.56779479980469}], 'p90': [{'Timestamp': '2010-11-01T00:00:00', 'Value': 112.49220275878906}, {'Timestamp': '2010-11-01T01:00:00', 'Value': 84.6822738647461}, {'Timestamp': '2010-11-01T02:00:00', 'Value': 64.29136657714844}, {'Timestamp': '2010-11-01T03:00:00', 'Value': 50.74882507324219}, {'Timestamp': '2010-11-01T04:00:00', 'Value': 42.84065628051758}, {'Timestamp': '2010-11-01T05:00:00', 'Value': 46.05852508544922}, {'Timestamp': '2010-11-01T06:00:00', 'Value': 67.40049743652344}, {'Timestamp': '2010-11-01T07:00:00', 'Value': 101.39159393310547}, {'Timestamp': '2010-11-01T08:00:00', 'Value': 132.08627319335938}, {'Timestamp': '2010-11-01T09:00:00', 'Value': 123.01261138916016}, {'Timestamp': '2010-11-01T10:00:00', 'Value': 137.75491333007812}, {'Timestamp': '2010-11-01T11:00:00', 'Value': 106.56088256835938}, {'Timestamp': '2010-11-01T12:00:00', 'Value': 120.24842071533203}, {'Timestamp': '2010-11-01T13:00:00', 'Value': 97.36282348632812}, {'Timestamp': '2010-11-01T14:00:00', 'Value': 99.29182434082031}, {'Timestamp': '2010-11-01T15:00:00', 'Value': 77.24200439453125}, {'Timestamp': '2010-11-01T16:00:00', 'Value': 68.95306396484375}, {'Timestamp': '2010-11-01T17:00:00', 'Value': 83.9885025024414}, {'Timestamp': '2010-11-01T18:00:00', 'Value': 131.60206604003906}, {'Timestamp': '2010-11-01T19:00:00', 'Value': 157.32574462890625}, {'Timestamp': '2010-11-01T20:00:00', 'Value': 160.24888610839844}, {'Timestamp': '2010-11-01T21:00:00', 'Value': 161.5343017578125}, {'Timestamp': '2010-11-01T22:00:00', 'Value': 138.9436492919922}, {'Timestamp': '2010-11-01T23:00:00', 'Value': 129.68936157226562}]}}, 'ResponseMetadata': {'RequestId': 'c1cefd59-8279-42f8-9bff-b7d11720dcb1', 'HTTPStatusCode': 200, 'HTTPHeaders': {'content-type': 'application/x-amz-json-1.1', 'date': 'Sat, 12 Dec 2020 19:49:59 GMT', 'x-amzn-requestid': 'c1cefd59-8279-42f8-9bff-b7d11720dcb1', 'content-length': '4541', 'connection': 'keep-alive'}, 'RetryAttempts': 0}}\n"
     ]
    }
   ],
   "source": [
    "print(forecastArn)\n",
    "print()\n",
    "forecastResponse = forecastquery.query_forecast(\n",
    "    ForecastArn=forecastArn,\n",
    "    Filters={\"item_id\":\"client_1\"}\n",
    ")\n",
    "print(forecastResponse)"
   ]
  },
  {
   "cell_type": "markdown",
   "metadata": {},
   "source": [
    "## Next Steps"
   ]
  },
  {
   "cell_type": "code",
   "execution_count": 35,
   "metadata": {},
   "outputs": [
    {
     "name": "stdout",
     "output_type": "stream",
     "text": [
      "Stored 'forecastArn' (str)\n",
      "Stored 'predictor_arn' (str)\n"
     ]
    }
   ],
   "source": [
    "%store forecastArn\n",
    "%store predictor_arn"
   ]
  },
  {
   "cell_type": "code",
   "execution_count": null,
   "metadata": {},
   "outputs": [],
   "source": []
  }
 ],
 "metadata": {
  "kernelspec": {
   "display_name": "Python 3",
   "language": "python",
   "name": "python3"
  },
  "language_info": {
   "codemirror_mode": {
    "name": "ipython",
    "version": 3
   },
   "file_extension": ".py",
   "mimetype": "text/x-python",
   "name": "python",
   "nbconvert_exporter": "python",
   "pygments_lexer": "ipython3",
   "version": "3.8.5"
  }
 },
 "nbformat": 4,
 "nbformat_minor": 4
}
