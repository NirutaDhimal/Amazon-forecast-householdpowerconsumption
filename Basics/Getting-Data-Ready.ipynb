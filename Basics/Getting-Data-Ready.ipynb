{
 "cells": [
  {
   "cell_type": "markdown",
   "metadata": {},
   "source": [
    "# SetUp"
   ]
  },
  {
   "cell_type": "code",
   "execution_count": 75,
   "metadata": {},
   "outputs": [],
   "source": [
    "import os\n",
    "import json\n",
    "import sys\n",
    "import time\n",
    "\n",
    "import pandas as pd\n",
    "import boto3\n",
    "\n",
    "#importing forecast notebook utility from notebooks/common directory\n",
    "sys.path.insert(0, os.path.abspath(\"common\"))\n",
    "import util"
   ]
  },
  {
   "cell_type": "code",
   "execution_count": 76,
   "metadata": {},
   "outputs": [],
   "source": [
    "bucket_name = \"household-power-consumption\"\n",
    "region = \"us-east-1\"\n"
   ]
  },
  {
   "cell_type": "code",
   "execution_count": 77,
   "metadata": {},
   "outputs": [],
   "source": [
    "session = boto3.Session(region_name=region) \n",
    "forecast = session.client(service_name='forecast') \n",
    "forecastquery = session.client(service_name='forecastquery')"
   ]
  },
  {
   "cell_type": "markdown",
   "metadata": {},
   "source": [
    "## Data Preparation "
   ]
  },
  {
   "cell_type": "code",
   "execution_count": 78,
   "metadata": {},
   "outputs": [],
   "source": [
    "df = pd.read_csv(\"data/household_global_activepower_consumption.csv\", dtype = object)"
   ]
  },
  {
   "cell_type": "code",
   "execution_count": 79,
   "metadata": {},
   "outputs": [
    {
     "data": {
      "text/html": [
       "<div>\n",
       "<style scoped>\n",
       "    .dataframe tbody tr th:only-of-type {\n",
       "        vertical-align: middle;\n",
       "    }\n",
       "\n",
       "    .dataframe tbody tr th {\n",
       "        vertical-align: top;\n",
       "    }\n",
       "\n",
       "    .dataframe thead th {\n",
       "        text-align: right;\n",
       "    }\n",
       "</style>\n",
       "<table border=\"1\" class=\"dataframe\">\n",
       "  <thead>\n",
       "    <tr style=\"text-align: right;\">\n",
       "      <th></th>\n",
       "      <th>timestamp</th>\n",
       "      <th>value</th>\n",
       "      <th>item-id</th>\n",
       "    </tr>\n",
       "  </thead>\n",
       "  <tbody>\n",
       "    <tr>\n",
       "      <th>0</th>\n",
       "      <td>2006-12-16 17:24:00</td>\n",
       "      <td>4.216</td>\n",
       "      <td>client_1</td>\n",
       "    </tr>\n",
       "    <tr>\n",
       "      <th>1</th>\n",
       "      <td>2006-12-16 17:25:00</td>\n",
       "      <td>5.36</td>\n",
       "      <td>client_1</td>\n",
       "    </tr>\n",
       "    <tr>\n",
       "      <th>2</th>\n",
       "      <td>2006-12-16 17:26:00</td>\n",
       "      <td>5.374</td>\n",
       "      <td>client_1</td>\n",
       "    </tr>\n",
       "    <tr>\n",
       "      <th>3</th>\n",
       "      <td>2006-12-16 17:27:00</td>\n",
       "      <td>5.388</td>\n",
       "      <td>client_1</td>\n",
       "    </tr>\n",
       "    <tr>\n",
       "      <th>4</th>\n",
       "      <td>2006-12-16 17:28:00</td>\n",
       "      <td>3.6660000000000004</td>\n",
       "      <td>client_1</td>\n",
       "    </tr>\n",
       "  </tbody>\n",
       "</table>\n",
       "</div>"
      ],
      "text/plain": [
       "             timestamp               value   item-id\n",
       "0  2006-12-16 17:24:00               4.216  client_1\n",
       "1  2006-12-16 17:25:00                5.36  client_1\n",
       "2  2006-12-16 17:26:00               5.374  client_1\n",
       "3  2006-12-16 17:27:00               5.388  client_1\n",
       "4  2006-12-16 17:28:00  3.6660000000000004  client_1"
      ]
     },
     "execution_count": 79,
     "metadata": {},
     "output_type": "execute_result"
    }
   ],
   "source": [
    "df.head()"
   ]
  },
  {
   "cell_type": "code",
   "execution_count": 80,
   "metadata": {},
   "outputs": [
    {
     "data": {
      "text/html": [
       "<div>\n",
       "<style scoped>\n",
       "    .dataframe tbody tr th:only-of-type {\n",
       "        vertical-align: middle;\n",
       "    }\n",
       "\n",
       "    .dataframe tbody tr th {\n",
       "        vertical-align: top;\n",
       "    }\n",
       "\n",
       "    .dataframe thead th {\n",
       "        text-align: right;\n",
       "    }\n",
       "</style>\n",
       "<table border=\"1\" class=\"dataframe\">\n",
       "  <thead>\n",
       "    <tr style=\"text-align: right;\">\n",
       "      <th></th>\n",
       "      <th>timestamp</th>\n",
       "      <th>value</th>\n",
       "      <th>item-id</th>\n",
       "    </tr>\n",
       "  </thead>\n",
       "  <tbody>\n",
       "    <tr>\n",
       "      <th>2049275</th>\n",
       "      <td>2010-11-26 20:58:00</td>\n",
       "      <td>0.946</td>\n",
       "      <td>client_1</td>\n",
       "    </tr>\n",
       "    <tr>\n",
       "      <th>2049276</th>\n",
       "      <td>2010-11-26 20:59:00</td>\n",
       "      <td>0.9440000000000001</td>\n",
       "      <td>client_1</td>\n",
       "    </tr>\n",
       "    <tr>\n",
       "      <th>2049277</th>\n",
       "      <td>2010-11-26 21:00:00</td>\n",
       "      <td>0.938</td>\n",
       "      <td>client_1</td>\n",
       "    </tr>\n",
       "    <tr>\n",
       "      <th>2049278</th>\n",
       "      <td>2010-11-26 21:01:00</td>\n",
       "      <td>0.934</td>\n",
       "      <td>client_1</td>\n",
       "    </tr>\n",
       "    <tr>\n",
       "      <th>2049279</th>\n",
       "      <td>2010-11-26 21:02:00</td>\n",
       "      <td>0.932</td>\n",
       "      <td>client_1</td>\n",
       "    </tr>\n",
       "  </tbody>\n",
       "</table>\n",
       "</div>"
      ],
      "text/plain": [
       "                   timestamp               value   item-id\n",
       "2049275  2010-11-26 20:58:00               0.946  client_1\n",
       "2049276  2010-11-26 20:59:00  0.9440000000000001  client_1\n",
       "2049277  2010-11-26 21:00:00               0.938  client_1\n",
       "2049278  2010-11-26 21:01:00               0.934  client_1\n",
       "2049279  2010-11-26 21:02:00               0.932  client_1"
      ]
     },
     "execution_count": 80,
     "metadata": {},
     "output_type": "execute_result"
    }
   ],
   "source": [
    "df.tail()"
   ]
  },
  {
   "cell_type": "markdown",
   "metadata": {},
   "source": [
    "Here, we have data from 2006-12-16 to 2010-11-26 . For testing we will use the data from nov 2010 in different csv. We are also going to save the rest of the data in different csv file."
   ]
  },
  {
   "cell_type": "code",
   "execution_count": 81,
   "metadata": {
    "scrolled": true
   },
   "outputs": [
    {
     "data": {
      "text/html": [
       "<div>\n",
       "<style scoped>\n",
       "    .dataframe tbody tr th:only-of-type {\n",
       "        vertical-align: middle;\n",
       "    }\n",
       "\n",
       "    .dataframe tbody tr th {\n",
       "        vertical-align: top;\n",
       "    }\n",
       "\n",
       "    .dataframe thead th {\n",
       "        text-align: right;\n",
       "    }\n",
       "</style>\n",
       "<table border=\"1\" class=\"dataframe\">\n",
       "  <thead>\n",
       "    <tr style=\"text-align: right;\">\n",
       "      <th></th>\n",
       "      <th>timestamp</th>\n",
       "      <th>value</th>\n",
       "      <th>item-id</th>\n",
       "    </tr>\n",
       "  </thead>\n",
       "  <tbody>\n",
       "    <tr>\n",
       "      <th>2012012</th>\n",
       "      <td>2010-10-31 23:55:00</td>\n",
       "      <td>2.46</td>\n",
       "      <td>client_1</td>\n",
       "    </tr>\n",
       "    <tr>\n",
       "      <th>2012013</th>\n",
       "      <td>2010-10-31 23:56:00</td>\n",
       "      <td>2.408</td>\n",
       "      <td>client_1</td>\n",
       "    </tr>\n",
       "    <tr>\n",
       "      <th>2012014</th>\n",
       "      <td>2010-10-31 23:57:00</td>\n",
       "      <td>1.364</td>\n",
       "      <td>client_1</td>\n",
       "    </tr>\n",
       "    <tr>\n",
       "      <th>2012015</th>\n",
       "      <td>2010-10-31 23:58:00</td>\n",
       "      <td>1.3659999999999999</td>\n",
       "      <td>client_1</td>\n",
       "    </tr>\n",
       "    <tr>\n",
       "      <th>2012016</th>\n",
       "      <td>2010-10-31 23:59:00</td>\n",
       "      <td>1.3659999999999999</td>\n",
       "      <td>client_1</td>\n",
       "    </tr>\n",
       "  </tbody>\n",
       "</table>\n",
       "</div>"
      ],
      "text/plain": [
       "                   timestamp               value   item-id\n",
       "2012012  2010-10-31 23:55:00                2.46  client_1\n",
       "2012013  2010-10-31 23:56:00               2.408  client_1\n",
       "2012014  2010-10-31 23:57:00               1.364  client_1\n",
       "2012015  2010-10-31 23:58:00  1.3659999999999999  client_1\n",
       "2012016  2010-10-31 23:59:00  1.3659999999999999  client_1"
      ]
     },
     "execution_count": 81,
     "metadata": {},
     "output_type": "execute_result"
    }
   ],
   "source": [
    "#storing data from dec 2006 to oct 2010 in one dataframe\n",
    "training = df[((df['timestamp'] >= '2006-12-16') & (df['timestamp'] <= '2010-11-01'))]\n",
    "training.shape\n",
    "training.tail()"
   ]
  },
  {
   "cell_type": "code",
   "execution_count": 82,
   "metadata": {},
   "outputs": [
    {
     "data": {
      "text/html": [
       "<div>\n",
       "<style scoped>\n",
       "    .dataframe tbody tr th:only-of-type {\n",
       "        vertical-align: middle;\n",
       "    }\n",
       "\n",
       "    .dataframe tbody tr th {\n",
       "        vertical-align: top;\n",
       "    }\n",
       "\n",
       "    .dataframe thead th {\n",
       "        text-align: right;\n",
       "    }\n",
       "</style>\n",
       "<table border=\"1\" class=\"dataframe\">\n",
       "  <thead>\n",
       "    <tr style=\"text-align: right;\">\n",
       "      <th></th>\n",
       "      <th>timestamp</th>\n",
       "      <th>value</th>\n",
       "      <th>item-id</th>\n",
       "    </tr>\n",
       "  </thead>\n",
       "  <tbody>\n",
       "    <tr>\n",
       "      <th>2012017</th>\n",
       "      <td>2010-11-01 00:00:00</td>\n",
       "      <td>1.368</td>\n",
       "      <td>client_1</td>\n",
       "    </tr>\n",
       "    <tr>\n",
       "      <th>2012018</th>\n",
       "      <td>2010-11-01 00:01:00</td>\n",
       "      <td>1.368</td>\n",
       "      <td>client_1</td>\n",
       "    </tr>\n",
       "    <tr>\n",
       "      <th>2012019</th>\n",
       "      <td>2010-11-01 00:02:00</td>\n",
       "      <td>1.3659999999999999</td>\n",
       "      <td>client_1</td>\n",
       "    </tr>\n",
       "    <tr>\n",
       "      <th>2012020</th>\n",
       "      <td>2010-11-01 00:03:00</td>\n",
       "      <td>1.3119999999999998</td>\n",
       "      <td>client_1</td>\n",
       "    </tr>\n",
       "    <tr>\n",
       "      <th>2012021</th>\n",
       "      <td>2010-11-01 00:04:00</td>\n",
       "      <td>1.268</td>\n",
       "      <td>client_1</td>\n",
       "    </tr>\n",
       "  </tbody>\n",
       "</table>\n",
       "</div>"
      ],
      "text/plain": [
       "                   timestamp               value   item-id\n",
       "2012017  2010-11-01 00:00:00               1.368  client_1\n",
       "2012018  2010-11-01 00:01:00               1.368  client_1\n",
       "2012019  2010-11-01 00:02:00  1.3659999999999999  client_1\n",
       "2012020  2010-11-01 00:03:00  1.3119999999999998  client_1\n",
       "2012021  2010-11-01 00:04:00               1.268  client_1"
      ]
     },
     "execution_count": 82,
     "metadata": {},
     "output_type": "execute_result"
    }
   ],
   "source": [
    "remaining = df[(df['timestamp'] >= '2010-11-01')]\n",
    "remaining.head()"
   ]
  },
  {
   "cell_type": "code",
   "execution_count": 83,
   "metadata": {},
   "outputs": [
    {
     "data": {
      "text/plain": [
       "(37263, 3)"
      ]
     },
     "execution_count": 83,
     "metadata": {},
     "output_type": "execute_result"
    }
   ],
   "source": [
    "remaining.shape"
   ]
  },
  {
   "cell_type": "code",
   "execution_count": 84,
   "metadata": {},
   "outputs": [],
   "source": [
    "training.to_csv(\"data/item-demand-time-train.csv\", header = False, index = False)\n",
    "remaining.to_csv(\"data/item-demand-time-validation.csv\", header = False, index = False)\n"
   ]
  },
  {
   "cell_type": "code",
   "execution_count": 85,
   "metadata": {},
   "outputs": [],
   "source": [
    "key=\"activepower_data/item-demand-time-train.csv\""
   ]
  },
  {
   "cell_type": "code",
   "execution_count": 86,
   "metadata": {},
   "outputs": [],
   "source": [
    "boto3.Session().resource('s3').Bucket(bucket_name).Object(key).upload_file(\"data/item-demand-time-train.csv\")"
   ]
  },
  {
   "cell_type": "markdown",
   "metadata": {},
   "source": [
    "## Creating the Dataset Group and Dataset"
   ]
  },
  {
   "cell_type": "markdown",
   "metadata": {},
   "source": [
    "we are using custom domain with 3 attributes:- DateTime, Target value and item_id"
   ]
  },
  {
   "cell_type": "code",
   "execution_count": 47,
   "metadata": {},
   "outputs": [],
   "source": [
    "DATASET_FREQUENCY = \"H\"\n",
    "TIMESTAMP_FORMAT = \"yyyy-MM-dd hh:mm:ss\""
   ]
  },
  {
   "cell_type": "code",
   "execution_count": 48,
   "metadata": {},
   "outputs": [],
   "source": [
    "project = \"active_power_forecast\"\n",
    "datasetName = project + '_ds'\n",
    "datasetGroupName = project + '_dsg'\n",
    "s3DataPath = \"s3://\"+ bucket_name + \"/\" + key"
   ]
  },
  {
   "cell_type": "code",
   "execution_count": 49,
   "metadata": {},
   "outputs": [
    {
     "name": "stdout",
     "output_type": "stream",
     "text": [
      "Stored 'project' (str)\n"
     ]
    }
   ],
   "source": [
    "#Now save things\n",
    "%store project"
   ]
  },
  {
   "cell_type": "markdown",
   "metadata": {},
   "source": [
    "## Create the Dataset Group "
   ]
  },
  {
   "cell_type": "code",
   "execution_count": 50,
   "metadata": {},
   "outputs": [],
   "source": [
    "create_dataset_group_response = forecast.create_dataset_group(DatasetGroupName = datasetGroupName,\n",
    "                                                             Domain = \"CUSTOM\",\n",
    "                                                             )\n",
    "datasetGroupArn = create_dataset_group_response['DatasetGroupArn']\n"
   ]
  },
  {
   "cell_type": "code",
   "execution_count": 51,
   "metadata": {},
   "outputs": [
    {
     "data": {
      "text/plain": [
       "{'DatasetGroupName': 'active_power_forecast_dsg',\n",
       " 'DatasetGroupArn': 'arn:aws:forecast:us-east-1:879335107588:dataset-group/active_power_forecast_dsg',\n",
       " 'DatasetArns': [],\n",
       " 'Domain': 'CUSTOM',\n",
       " 'Status': 'ACTIVE',\n",
       " 'CreationTime': datetime.datetime(2020, 12, 12, 21, 41, 40, 616000, tzinfo=tzlocal()),\n",
       " 'LastModificationTime': datetime.datetime(2020, 12, 12, 21, 41, 40, 616000, tzinfo=tzlocal()),\n",
       " 'ResponseMetadata': {'RequestId': '3750174e-272b-458f-96a4-3c4935297bbb',\n",
       "  'HTTPStatusCode': 200,\n",
       "  'HTTPHeaders': {'content-type': 'application/x-amz-json-1.1',\n",
       "   'date': 'Sat, 12 Dec 2020 15:56:50 GMT',\n",
       "   'x-amzn-requestid': '3750174e-272b-458f-96a4-3c4935297bbb',\n",
       "   'content-length': '273',\n",
       "   'connection': 'keep-alive'},\n",
       "  'RetryAttempts': 0}}"
      ]
     },
     "execution_count": 51,
     "metadata": {},
     "output_type": "execute_result"
    }
   ],
   "source": [
    "forecast.describe_dataset_group(DatasetGroupArn = datasetGroupArn)"
   ]
  },
  {
   "cell_type": "markdown",
   "metadata": {},
   "source": [
    "## Create the Schema"
   ]
  },
  {
   "cell_type": "code",
   "execution_count": 56,
   "metadata": {},
   "outputs": [],
   "source": [
    "#specifying the schema of the dataset\n",
    "schema = {\n",
    "    'Attributes': [\n",
    "        {\n",
    "            'AttributeName': 'timestamp',\n",
    "            'AttributeType': 'timestamp'\n",
    "        },\n",
    "        {\n",
    "            'AttributeName': 'target_value',\n",
    "            'AttributeType': 'float'\n",
    "        },\n",
    "        {\n",
    "            'AttributeName': 'item_id',\n",
    "            'AttributeType': 'string'\n",
    "        }\n",
    "    ]\n",
    "}"
   ]
  },
  {
   "cell_type": "markdown",
   "metadata": {},
   "source": [
    "## Create the dataset "
   ]
  },
  {
   "cell_type": "code",
   "execution_count": 57,
   "metadata": {},
   "outputs": [],
   "source": [
    "response = forecast.create_dataset(\n",
    "    DatasetName = datasetName,\n",
    "    Domain = 'CUSTOM',\n",
    "    DatasetType = 'TARGET_TIME_SERIES',\n",
    "    DataFrequency = DATASET_FREQUENCY,\n",
    "    Schema = schema\n",
    ")"
   ]
  },
  {
   "cell_type": "code",
   "execution_count": null,
   "metadata": {},
   "outputs": [],
   "source": [
    "datasetArn = response['DatasetArn']\n",
    "forecast.describe_dataset(DatasetArn = datasetArn)"
   ]
  },
  {
   "cell_type": "markdown",
   "metadata": {},
   "source": [
    "## Add dataset to dataset group"
   ]
  },
  {
   "cell_type": "code",
   "execution_count": 59,
   "metadata": {},
   "outputs": [
    {
     "data": {
      "text/plain": [
       "{'ResponseMetadata': {'RequestId': '99985c9a-bb9e-4709-bb74-6796440462ce',\n",
       "  'HTTPStatusCode': 200,\n",
       "  'HTTPHeaders': {'content-type': 'application/x-amz-json-1.1',\n",
       "   'date': 'Sat, 12 Dec 2020 16:05:27 GMT',\n",
       "   'x-amzn-requestid': '99985c9a-bb9e-4709-bb74-6796440462ce',\n",
       "   'content-length': '2',\n",
       "   'connection': 'keep-alive'},\n",
       "  'RetryAttempts': 0}}"
      ]
     },
     "execution_count": 59,
     "metadata": {},
     "output_type": "execute_result"
    }
   ],
   "source": [
    "forecast.update_dataset_group(DatasetGroupArn = datasetGroupArn, DatasetArns = [datasetArn])"
   ]
  },
  {
   "cell_type": "markdown",
   "metadata": {},
   "source": [
    "# Create IAM role for Forecast"
   ]
  },
  {
   "cell_type": "code",
   "execution_count": 73,
   "metadata": {},
   "outputs": [
    {
     "name": "stdout",
     "output_type": "stream",
     "text": [
      "Created arn:aws:iam::879335107588:role/ForecastNotebookRole\n",
      "Attaching policies\n",
      "Waiting for a minute to allow IAM role policy attachment to propagate\n",
      "Done.\n"
     ]
    }
   ],
   "source": [
    "role_name = \"ForecastNotebookRole\"\n",
    "role_arn = util.get_or_create_iam_role(role_name = role_name)"
   ]
  },
  {
   "cell_type": "markdown",
   "metadata": {},
   "source": [
    "# Create data import jobs"
   ]
  },
  {
   "cell_type": "code",
   "execution_count": 87,
   "metadata": {},
   "outputs": [],
   "source": [
    "datasetImportJobName = 'Import_job_target'\n",
    "ds_import_job_response = forecast.create_dataset_import_job(\n",
    "    DatasetImportJobName = datasetImportJobName,\n",
    "    DatasetArn = datasetArn,\n",
    "    DataSource = {\n",
    "        'S3Config': {\n",
    "            'Path': s3DataPath,\n",
    "            'RoleArn': role_arn\n",
    "        }\n",
    "    },\n",
    "    TimestampFormat = TIMESTAMP_FORMAT\n",
    ")"
   ]
  },
  {
   "cell_type": "code",
   "execution_count": 89,
   "metadata": {},
   "outputs": [
    {
     "name": "stdout",
     "output_type": "stream",
     "text": [
      "arn:aws:forecast:us-east-1:879335107588:dataset-import-job/active_power_forecast_ds/Import_job_target\n"
     ]
    }
   ],
   "source": [
    "ds_import_job_Arn = ds_import_job_response['DatasetImportJobArn']\n",
    "print(ds_import_job_Arn)"
   ]
  },
  {
   "cell_type": "code",
   "execution_count": 92,
   "metadata": {},
   "outputs": [
    {
     "data": {
      "text/plain": [
       "{'DatasetImportJobName': 'Import_job_target',\n",
       " 'DatasetImportJobArn': 'arn:aws:forecast:us-east-1:879335107588:dataset-import-job/active_power_forecast_ds/Import_job_target',\n",
       " 'DatasetArn': 'arn:aws:forecast:us-east-1:879335107588:dataset/active_power_forecast_ds',\n",
       " 'TimestampFormat': 'yyyy-MM-dd hh:mm:ss',\n",
       " 'DataSource': {'S3Config': {'Path': 's3://household-power-consumption/activepower_data/item-demand-time-train.csv',\n",
       "   'RoleArn': 'arn:aws:iam::879335107588:role/ForecastNotebookRole'}},\n",
       " 'FieldStatistics': {'item_id': {'Count': 2012017,\n",
       "   'CountDistinct': 1,\n",
       "   'CountNull': 0},\n",
       "  'target_value': {'Count': 2012017,\n",
       "   'CountDistinct': 4180,\n",
       "   'CountNull': 0,\n",
       "   'CountNan': 0,\n",
       "   'Min': '0.076',\n",
       "   'Max': '11.122',\n",
       "   'Avg': 1.0896659789653864,\n",
       "   'Stddev': 1.058404029777552},\n",
       "  'timestamp': {'Count': 2012017,\n",
       "   'CountDistinct': 2012017,\n",
       "   'CountNull': 0,\n",
       "   'Min': '2006-12-16T17:24:00Z',\n",
       "   'Max': '2010-10-31T23:59:00Z'}},\n",
       " 'DataSize': 0.07348200306296349,\n",
       " 'Status': 'ACTIVE',\n",
       " 'CreationTime': datetime.datetime(2020, 12, 12, 22, 51, 22, 618000, tzinfo=tzlocal()),\n",
       " 'LastModificationTime': datetime.datetime(2020, 12, 12, 22, 59, 30, 887000, tzinfo=tzlocal()),\n",
       " 'ResponseMetadata': {'RequestId': 'de13e716-8469-4cd2-a9f7-07f482737cec',\n",
       "  'HTTPStatusCode': 200,\n",
       "  'HTTPHeaders': {'content-type': 'application/x-amz-json-1.1',\n",
       "   'date': 'Sat, 12 Dec 2020 17:24:46 GMT',\n",
       "   'x-amzn-requestid': 'de13e716-8469-4cd2-a9f7-07f482737cec',\n",
       "   'content-length': '1205',\n",
       "   'connection': 'keep-alive'},\n",
       "  'RetryAttempts': 0}}"
      ]
     },
     "execution_count": 92,
     "metadata": {},
     "output_type": "execute_result"
    }
   ],
   "source": [
    "forecast.describe_dataset_import_job(DatasetImportJobArn = ds_import_job_Arn)"
   ]
  },
  {
   "cell_type": "markdown",
   "metadata": {},
   "source": [
    "## Next Steps"
   ]
  },
  {
   "cell_type": "code",
   "execution_count": 93,
   "metadata": {},
   "outputs": [
    {
     "name": "stdout",
     "output_type": "stream",
     "text": [
      "Stored 'datasetGroupArn' (str)\n",
      "Stored 'datasetArn' (str)\n",
      "Stored 'role_name' (str)\n",
      "Stored 'key' (str)\n",
      "Stored 'bucket_name' (str)\n",
      "Stored 'region' (str)\n",
      "Stored 'ds_import_job_Arn' (str)\n"
     ]
    }
   ],
   "source": [
    "%store datasetGroupArn\n",
    "%store datasetArn\n",
    "%store role_name\n",
    "%store key\n",
    "%store bucket_name\n",
    "%store region\n",
    "%store ds_import_job_Arn"
   ]
  },
  {
   "cell_type": "code",
   "execution_count": null,
   "metadata": {},
   "outputs": [],
   "source": []
  }
 ],
 "metadata": {
  "kernelspec": {
   "display_name": "Python 3",
   "language": "python",
   "name": "python3"
  },
  "language_info": {
   "codemirror_mode": {
    "name": "ipython",
    "version": 3
   },
   "file_extension": ".py",
   "mimetype": "text/x-python",
   "name": "python",
   "nbconvert_exporter": "python",
   "pygments_lexer": "ipython3",
   "version": "3.8.5"
  }
 },
 "nbformat": 4,
 "nbformat_minor": 4
}
